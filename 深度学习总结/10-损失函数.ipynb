{
 "cells": [
  {
   "cell_type": "markdown",
   "id": "7a46a946",
   "metadata": {
    "ExecuteTime": {
     "end_time": "2022-07-09T02:28:51.841629Z",
     "start_time": "2022-07-09T02:28:51.838399Z"
    }
   },
   "source": [
    "# MSE损失函数"
   ]
  },
  {
   "cell_type": "code",
   "execution_count": 1,
   "id": "3dc7cf55",
   "metadata": {
    "ExecuteTime": {
     "end_time": "2022-07-09T02:27:24.230064Z",
     "start_time": "2022-07-09T02:27:23.292434Z"
    }
   },
   "outputs": [
    {
     "data": {
      "text/plain": [
       "tensor(105.2740)"
      ]
     },
     "execution_count": 1,
     "metadata": {},
     "output_type": "execute_result"
    }
   ],
   "source": [
    "import torch\n",
    "from torch.nn import MSELoss#类\n",
    "yhat = torch.randn(size=(50,),dtype=torch.float32)\n",
    "y = torch.randn(size=(50,),dtype=torch.float32)\n",
    "criterion =MSELoss() #实例化\n",
    "loss = criterion(yhat,y)\n",
    "loss #没有设置随机数种子，所以每次运行的数字都会不一致\n",
    "#在MSELoss中有重要的参数，reduction\n",
    "#当reduction = \"mean\" (默认也是mean)，则输出MSE\n",
    "#当reduction = \"sum\"，则输出SSE\n",
    "criterion = MSELoss(reduction = \"mean\") #实例化\n",
    "criterion(yhat,y)\n",
    "criterion = MSELoss(reduction = \"sum\")\n",
    "criterion(yhat,y)"
   ]
  },
  {
   "cell_type": "code",
   "execution_count": 2,
   "id": "fb82b2d5",
   "metadata": {
    "ExecuteTime": {
     "end_time": "2022-07-09T02:27:31.074754Z",
     "start_time": "2022-07-09T02:27:31.070474Z"
    }
   },
   "outputs": [
    {
     "data": {
      "text/plain": [
       "tensor([ 1.2856,  0.4419, -0.5217, -1.3790,  0.9287, -1.1419, -0.6497, -1.3393,\n",
       "         0.6949,  1.8447, -0.7083, -2.5326,  1.4791,  0.9352, -0.7228,  0.4340,\n",
       "        -0.3933, -0.3710,  0.6111,  0.3316, -0.2658, -1.6776, -0.0571, -0.4329,\n",
       "        -0.4885,  0.7979, -0.7102, -1.0926, -0.4037, -0.8492, -0.6113,  0.8313,\n",
       "        -0.6225,  2.5553, -0.5076, -0.6394, -0.6878,  0.4487,  3.0216,  1.9826,\n",
       "         0.9998,  1.0153, -0.3754,  1.0142, -0.8512, -1.0406, -0.9298, -0.9853,\n",
       "         2.1803,  0.4245])"
      ]
     },
     "execution_count": 2,
     "metadata": {},
     "output_type": "execute_result"
    }
   ],
   "source": [
    "yhat"
   ]
  },
  {
   "cell_type": "code",
   "execution_count": 3,
   "id": "da8afe2f",
   "metadata": {
    "ExecuteTime": {
     "end_time": "2022-07-09T02:27:41.402491Z",
     "start_time": "2022-07-09T02:27:41.398008Z"
    }
   },
   "outputs": [
    {
     "data": {
      "text/plain": [
       "tensor([ 0.5683,  0.4219,  0.0042,  0.8480, -0.7894,  0.4232,  1.5119, -0.6371,\n",
       "         0.2657, -2.1157,  0.5179, -0.2854,  0.3298, -0.8231, -0.1034,  0.1760,\n",
       "        -0.2353,  0.6692, -1.2651, -0.7630, -0.0075, -0.7563, -0.3748,  0.5689,\n",
       "         0.3061,  1.1553, -1.3420,  0.3253, -0.4502,  0.9837, -0.4306,  1.5947,\n",
       "        -0.5605, -0.0958,  0.6806,  1.0936, -1.2114,  0.8631, -0.3167, -0.4117,\n",
       "         0.3595,  0.6218, -0.5909,  0.2274, -0.0438,  1.6160, -0.9271, -1.3443,\n",
       "        -0.0315,  2.4117])"
      ]
     },
     "execution_count": 3,
     "metadata": {},
     "output_type": "execute_result"
    }
   ],
   "source": [
    "y"
   ]
  },
  {
   "cell_type": "markdown",
   "id": "e6e19f68",
   "metadata": {},
   "source": [
    "# 交叉熵损失函数"
   ]
  },
  {
   "cell_type": "markdown",
   "id": "e98f13ed",
   "metadata": {},
   "source": [
    "## 极大似然估计\n",
    "如果一个事件的发生概率很大，那这个事件应该很容易发生。相应的，如果依赖于权重 的任意事\n",
    "件的发生就是我们的目标，那我们只要寻找令其发生概率最大化的权重 就可以了。寻找相应的权\n",
    "重 ，使得目标事件的发生概率最大，就是极大似然估计的基本方法。\n",
    "\n",
    "其步骤如下：\n",
    "1、构筑似然函数 ，用于评估目标事件发生的概率，该函数被设计成目标事件发生时，概率最\n",
    "大\n",
    "2、对整体似然函数取对数，构成对数似然函数\n",
    "3、在对数似然函数上对权重 求导，并使导数为0，对权重进行求解"
   ]
  },
  {
   "cell_type": "markdown",
   "id": "f55b2880",
   "metadata": {},
   "source": [
    "## 交叉熵损失函数\n"
   ]
  },
  {
   "cell_type": "code",
   "execution_count": 5,
   "id": "1d1741a0",
   "metadata": {
    "ExecuteTime": {
     "end_time": "2022-07-09T02:46:29.910426Z",
     "start_time": "2022-07-09T02:46:29.851500Z"
    }
   },
   "outputs": [
    {
     "data": {
      "text/plain": [
       "tensor(0.7962, grad_fn=<MulBackward0>)"
      ]
     },
     "execution_count": 5,
     "metadata": {},
     "output_type": "execute_result"
    }
   ],
   "source": [
    "import torch\n",
    "import time\n",
    "N = 3*pow(10,3)\n",
    "torch.random.manual_seed(420)\n",
    "X = torch.rand((N,4),dtype=torch.float32)\n",
    "w = torch.rand((4,1),dtype=torch.float32,requires_grad=True)\n",
    "y = torch.randint(low=0,high=2,size=(N,1),dtype=torch.float32)\n",
    "zhat = torch.mm(X,w)\n",
    "sigma = torch.sigmoid(zhat)\n",
    "Loss = -(1/N)*torch.sum((1-y)*torch.log(1-sigma)+y*torch.log(sigma)) # sum后求均值\n",
    "Loss"
   ]
  },
  {
   "cell_type": "code",
   "execution_count": 8,
   "id": "e151f9a6",
   "metadata": {
    "ExecuteTime": {
     "end_time": "2022-07-09T02:48:51.184048Z",
     "start_time": "2022-07-09T02:48:51.137776Z"
    }
   },
   "outputs": [
    {
     "name": "stdout",
     "output_type": "stream",
     "text": [
      "0.04208183288574219\n"
     ]
    }
   ],
   "source": [
    "start = time.time() #捕获现在的时间\n",
    "loss1 = -(1/N)*sum(y*torch.log(sigma) + (1-y)*torch.log(1-sigma))\n",
    "now = time.time() #以秒计\n",
    "print(now - start)"
   ]
  },
  {
   "cell_type": "code",
   "execution_count": 9,
   "id": "c735d3d3",
   "metadata": {
    "ExecuteTime": {
     "end_time": "2022-07-09T02:48:51.701715Z",
     "start_time": "2022-07-09T02:48:51.695714Z"
    }
   },
   "outputs": [
    {
     "name": "stdout",
     "output_type": "stream",
     "text": [
      "0.0027441978454589844\n"
     ]
    }
   ],
   "source": [
    "start = time.time() # 使用torch库进行运算\n",
    "loss2 = -(1/N)*torch.sum(y*torch.log(sigma) + (1-y)*torch.log(1-sigma))\n",
    "now = time.time() #以秒计\n",
    "print(now - start)"
   ]
  },
  {
   "cell_type": "markdown",
   "id": "d2cd5cc7",
   "metadata": {},
   "source": [
    "### torch库调用BCE"
   ]
  },
  {
   "cell_type": "code",
   "execution_count": 12,
   "id": "49661391",
   "metadata": {
    "ExecuteTime": {
     "end_time": "2022-07-09T02:51:21.623036Z",
     "start_time": "2022-07-09T02:51:21.586312Z"
    }
   },
   "outputs": [
    {
     "data": {
      "text/plain": [
       "tensor(0.7962, grad_fn=<BinaryCrossEntropyBackward>)"
      ]
     },
     "execution_count": 12,
     "metadata": {},
     "output_type": "execute_result"
    }
   ],
   "source": [
    "import torch.nn as nn\n",
    "criterion = nn.BCELoss(reduction = \"mean\") #实例化\n",
    "loss = criterion(sigma,y)\n",
    "loss"
   ]
  },
  {
   "cell_type": "code",
   "execution_count": 13,
   "id": "547805fb",
   "metadata": {
    "ExecuteTime": {
     "end_time": "2022-07-09T02:51:42.686622Z",
     "start_time": "2022-07-09T02:51:42.673365Z"
    }
   },
   "outputs": [
    {
     "data": {
      "text/plain": [
       "tensor(0.7962, grad_fn=<BinaryCrossEntropyWithLogitsBackward>)"
      ]
     },
     "execution_count": 13,
     "metadata": {},
     "output_type": "execute_result"
    }
   ],
   "source": [
    "criterion2 = nn.BCEWithLogitsLoss(reduction = \"mean\") # 使用sigma激活之前输出\n",
    "loss = criterion2(zhat, y)\n",
    "loss"
   ]
  },
  {
   "cell_type": "code",
   "execution_count": 14,
   "id": "862c9fee",
   "metadata": {
    "ExecuteTime": {
     "end_time": "2022-07-09T02:52:03.034764Z",
     "start_time": "2022-07-09T02:52:03.029371Z"
    }
   },
   "outputs": [
    {
     "data": {
      "text/plain": [
       "tensor(0.7600, grad_fn=<BinaryCrossEntropyWithLogitsBackward>)"
      ]
     },
     "execution_count": 14,
     "metadata": {},
     "output_type": "execute_result"
    }
   ],
   "source": [
    "criterion2 = nn.BCEWithLogitsLoss(reduction = \"mean\") # 使用sigma激活之前输出，精度更好\n",
    "loss = criterion2(sigma, y)\n",
    "loss"
   ]
  },
  {
   "cell_type": "markdown",
   "id": "cf909f0b",
   "metadata": {},
   "source": [
    "## 多分类交叉熵"
   ]
  },
  {
   "cell_type": "code",
   "execution_count": 15,
   "id": "55738fee",
   "metadata": {
    "ExecuteTime": {
     "end_time": "2022-07-09T03:03:36.246177Z",
     "start_time": "2022-07-09T03:03:36.177166Z"
    }
   },
   "outputs": [
    {
     "data": {
      "text/plain": [
       "tensor(1.1591, grad_fn=<NllLossBackward>)"
      ]
     },
     "execution_count": 15,
     "metadata": {},
     "output_type": "execute_result"
    }
   ],
   "source": [
    "import torch\n",
    "import torch.nn as nn\n",
    "N = 3*pow(10,2)\n",
    "torch.random.manual_seed(420)\n",
    "X = torch.rand((N,4),dtype=torch.float32)\n",
    "w = torch.rand((4,3),dtype=torch.float32,requires_grad=True)\n",
    "\n",
    "#定义y时应该怎么做？应该设置为矩阵吗？\n",
    "y = torch.randint(low=0,high=3,size=(N,),dtype=torch.float32)\n",
    "zhat = torch.mm(X,w)\n",
    "#从这里开始调用softmax和NLLLoss\n",
    "logsm = nn.LogSoftmax(dim=1) #实例化\n",
    "logsigma = logsm(zhat)\n",
    "criterion = nn.NLLLoss() #实例化，转换为onehot\n",
    "#由于交叉熵损失需要将标签转化为独热形式，因此不接受浮点数作为标签的输入\n",
    "#对NLLLoss而言，需要输入logsigma\n",
    "criterion(logsigma,y.long())"
   ]
  },
  {
   "cell_type": "code",
   "execution_count": 17,
   "id": "1a72c81f",
   "metadata": {
    "ExecuteTime": {
     "end_time": "2022-07-09T03:05:39.384798Z",
     "start_time": "2022-07-09T03:05:39.343918Z"
    }
   },
   "outputs": [
    {
     "data": {
      "text/plain": [
       "tensor(1.1591, grad_fn=<NllLossBackward>)"
      ]
     },
     "execution_count": 17,
     "metadata": {},
     "output_type": "execute_result"
    }
   ],
   "source": [
    "## 使用torch\n",
    "criterion = nn.CrossEntropyLoss()\n",
    "criterion(zhat,y.long())"
   ]
  },
  {
   "cell_type": "code",
   "execution_count": null,
   "id": "d97f23a6",
   "metadata": {},
   "outputs": [],
   "source": []
  },
  {
   "cell_type": "code",
   "execution_count": null,
   "id": "f965bd48",
   "metadata": {},
   "outputs": [],
   "source": []
  }
 ],
 "metadata": {
  "kernelspec": {
   "display_name": "ts_env",
   "language": "python",
   "name": "ts_env"
  },
  "language_info": {
   "codemirror_mode": {
    "name": "ipython",
    "version": 3
   },
   "file_extension": ".py",
   "mimetype": "text/x-python",
   "name": "python",
   "nbconvert_exporter": "python",
   "pygments_lexer": "ipython3",
   "version": "3.7.11"
  },
  "toc": {
   "base_numbering": 1,
   "nav_menu": {},
   "number_sections": true,
   "sideBar": true,
   "skip_h1_title": false,
   "title_cell": "Table of Contents",
   "title_sidebar": "Contents",
   "toc_cell": false,
   "toc_position": {},
   "toc_section_display": true,
   "toc_window_display": false
  }
 },
 "nbformat": 4,
 "nbformat_minor": 5
}
